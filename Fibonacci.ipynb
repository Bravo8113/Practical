{
 "cells": [
  {
   "cell_type": "code",
   "execution_count": null,
   "id": "516839a5-3dbf-478d-8114-56734f5636bb",
   "metadata": {},
   "outputs": [
    {
     "name": "stdout",
     "output_type": "stream",
     "text": [
      "Enter the number of Fibonacci numbers to generate:  10\n"
     ]
    },
    {
     "name": "stdout",
     "output_type": "stream",
     "text": [
      "\n",
      "Recursive Fibonacci Numbers: [0, 1, 1, 2, 3, 5, 8, 13, 21, 34]\n",
      "Non-Recursive Fibonacci Numbers: [0, 1, 1, 2, 3, 5, 8, 13, 21, 34]\n"
     ]
    }
   ],
   "source": [
    "def rec_fib(n, calls=[0]):\n",
    "    calls[0] += 1\n",
    "    if n <= 1:\n",
    "        return n\n",
    "    return rec_fib(n - 1, calls) + rec_fib(n - 2, calls)\n",
    "\n",
    "def non_rec_fib(n, calls=[0]):\n",
    "    if n <= 1:\n",
    "        return n\n",
    "    a, b = 0, 1\n",
    "    for _ in range(2, n + 1):\n",
    "        a, b = b, a + b\n",
    "        calls[0] += 1\n",
    "    return b\n",
    "\n",
    "def fib_list(n, method=\"recursive\"):\n",
    "    calls = [0]\n",
    "    if method == \"recursive\":\n",
    "        fib_numbers = [rec_fib(i, calls) for i in range(n)]\n",
    "    else:\n",
    "        fib_numbers = [non_rec_fib(i, calls) for i in range(n)]\n",
    "    return fib_numbers, calls[0]\n",
    "\n",
    "def display_step_count_and_sum(n, method=\"recursive\"):\n",
    "    fib_numbers, steps = fib_list(n, method)\n",
    "    fib_sum = sum(fib_numbers)\n",
    "    print(f\"\\n{method.capitalize()} Fibonacci Numbers:\", fib_numbers)\n",
    "    print(f\"Step count ({method}):\", steps)\n",
    "    print(f\"Sum of Fibonacci numbers till {n}: {fib_sum}\")\n",
    "\n",
    "if __name__ == \"__main__\":\n",
    "    count = int(input(\"Enter the number of Fibonacci numbers to generate: \"))\n",
    "    display_step_count_and_sum(count, method=\"recursive\")\n",
    "    display_step_count_and_sum(count, method=\"non-recursive\")\n"
   ]
  },
  {
   "cell_type": "code",
   "execution_count": null,
   "id": "edd87037-4d2a-43d8-ac8c-8a2a6778ea63",
   "metadata": {},
   "outputs": [],
   "source": []
  }
 ],
 "metadata": {
  "kernelspec": {
   "display_name": "Python 3 (ipykernel)",
   "language": "python",
   "name": "python3"
  },
  "language_info": {
   "codemirror_mode": {
    "name": "ipython",
    "version": 3
   },
   "file_extension": ".py",
   "mimetype": "text/x-python",
   "name": "python",
   "nbconvert_exporter": "python",
   "pygments_lexer": "ipython3",
   "version": "3.12.7"
  }
 },
 "nbformat": 4,
 "nbformat_minor": 5
}

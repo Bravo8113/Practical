{
 "cells": [
  {
   "cell_type": "code",
   "execution_count": 4,
   "id": "1b9f965b-744d-4b5f-86da-a7057631fa5a",
   "metadata": {},
   "outputs": [
    {
     "name": "stdin",
     "output_type": "stream",
     "text": [
      "Enter the number of items:  4\n",
      "Enter the weights of items:  2 3 4 5\n",
      "Enter the values of items:  3 4 5 6\n",
      "Enter the knapsack capacity:  5\n"
     ]
    },
    {
     "name": "stdout",
     "output_type": "stream",
     "text": [
      "Maximum value that can be obtained: 7\n"
     ]
    }
   ],
   "source": [
    "def knapsack(weights, values, capacity):\n",
    "    n = len(weights)\n",
    "    dp = [[0] * (capacity + 1) for _ in range(n + 1)]\n",
    "\n",
    "    for i in range(1, n + 1):\n",
    "        for w in range(1, capacity + 1):\n",
    "            if weights[i - 1] <= w:\n",
    "                dp[i][w] = max(values[i - 1] + dp[i - 1][w - weights[i - 1]], dp[i - 1][w])\n",
    "            else:\n",
    "                dp[i][w] = dp[i - 1][w]\n",
    "\n",
    "    return dp[n][capacity]\n",
    "\n",
    "# Taking custom input\n",
    "n = int(input(\"Enter the number of items: \"))\n",
    "weights = list(map(int, input(\"Enter the weights of items: \").split()))\n",
    "values = list(map(int, input(\"Enter the values of items: \").split()))\n",
    "capacity = int(input(\"Enter the knapsack capacity: \"))\n",
    "\n",
    "# Calculating the maximum value\n",
    "max_value = knapsack(weights, values, capacity)\n",
    "print(\"Maximum value that can be obtained:\", max_value)\n"
   ]
  },
  {
   "cell_type": "code",
   "execution_count": null,
   "id": "2c2ae93c-1255-480a-b783-d027a571f772",
   "metadata": {},
   "outputs": [],
   "source": []
  }
 ],
 "metadata": {
  "kernelspec": {
   "display_name": "Python 3 (ipykernel)",
   "language": "python",
   "name": "python3"
  },
  "language_info": {
   "codemirror_mode": {
    "name": "ipython",
    "version": 3
   },
   "file_extension": ".py",
   "mimetype": "text/x-python",
   "name": "python",
   "nbconvert_exporter": "python",
   "pygments_lexer": "ipython3",
   "version": "3.12.7"
  }
 },
 "nbformat": 4,
 "nbformat_minor": 5
}

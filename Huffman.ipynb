{
 "cells": [
  {
   "cell_type": "code",
   "execution_count": 2,
   "id": "a0a32830-b737-4661-9c68-59cfb741c237",
   "metadata": {},
   "outputs": [
    {
     "name": "stdin",
     "output_type": "stream",
     "text": [
      "Enter a string:  abcde\n"
     ]
    },
    {
     "name": "stdout",
     "output_type": "stream",
     "text": [
      "Huffman Codes:\n",
      "e: 00\n",
      "d: 01\n",
      "b: 10\n",
      "a: 110\n",
      "c: 111\n"
     ]
    }
   ],
   "source": [
    "from queue import PriorityQueue\n",
    "from collections import defaultdict\n",
    "\n",
    "class HuffmanNode:\n",
    "    def __init__(self, data, frequency):\n",
    "        self.data = data\n",
    "        self.frequency = frequency\n",
    "        self.left = None\n",
    "        self.right = None\n",
    "\n",
    "    def __lt__(self, other):\n",
    "        return self.frequency < other.frequency\n",
    "\n",
    "def print_codes(root, code=\"\"):\n",
    "    if root is None:\n",
    "        return\n",
    "    if root.data:\n",
    "        print(f\"{root.data}: {code}\")\n",
    "    print_codes(root.left, code + \"0\")\n",
    "    print_codes(root.right, code + \"1\")\n",
    "\n",
    "def huffman_encoding(input_str):\n",
    "    frequency_map = defaultdict(int)\n",
    "    for char in input_str:\n",
    "        frequency_map[char] += 1\n",
    "\n",
    "    priority_queue = PriorityQueue()\n",
    "    for char, freq in frequency_map.items():\n",
    "        priority_queue.put(HuffmanNode(char, freq))\n",
    "\n",
    "    while priority_queue.qsize() > 1:\n",
    "        left = priority_queue.get()\n",
    "        right = priority_queue.get()\n",
    "        merged = HuffmanNode(None, left.frequency + right.frequency)\n",
    "        merged.left = left\n",
    "        merged.right = right\n",
    "        priority_queue.put(merged)\n",
    "\n",
    "    root = priority_queue.get()\n",
    "    print(\"Huffman Codes:\")\n",
    "    print_codes(root)\n",
    "\n",
    "if __name__ == \"__main__\":\n",
    "    input_str = input(\"Enter a string: \")\n",
    "    huffman_encoding(input_str)\n"
   ]
  },
  {
   "cell_type": "code",
   "execution_count": null,
   "id": "cf19ea69-fd77-4789-8bf8-b36a4fa2fac0",
   "metadata": {},
   "outputs": [],
   "source": []
  }
 ],
 "metadata": {
  "kernelspec": {
   "display_name": "Python 3 (ipykernel)",
   "language": "python",
   "name": "python3"
  },
  "language_info": {
   "codemirror_mode": {
    "name": "ipython",
    "version": 3
   },
   "file_extension": ".py",
   "mimetype": "text/x-python",
   "name": "python",
   "nbconvert_exporter": "python",
   "pygments_lexer": "ipython3",
   "version": "3.12.7"
  }
 },
 "nbformat": 4,
 "nbformat_minor": 5
}

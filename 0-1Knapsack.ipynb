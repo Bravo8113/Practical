{
 "cells": [
  {
   "cell_type": "code",
   "execution_count": null,
   "id": "e20db5ec-fec2-4727-a30f-7a850c70014a",
   "metadata": {},
   "outputs": [],
   "source": [
    "def fractional_knapsack(items, capacity):\n",
    "    items.sort(key=lambda x: x[2] / x[1], reverse=True)  # Sort by value-to-weight ratio\n",
    "    total_value = 0.0\n",
    "    \n",
    "    print(\"\\nItems selected for the knapsack:\")\n",
    "    for name, weight, value in items:\n",
    "        if capacity >= weight:\n",
    "            print(f\"{name} (100%)\")\n",
    "            total_value += value\n",
    "            capacity -= weight\n",
    "        else:\n",
    "            fraction = capacity / weight\n",
    "            print(f\"{name} ({fraction * 100:.2f}%)\")\n",
    "            total_value += value * fraction\n",
    "            break\n",
    "\n",
    "    return total_value\n",
    "\n",
    "# Taking custom input\n",
    "n = int(input(\"Enter the number of items: \"))\n",
    "items = []\n",
    "\n",
    "for i in range(n):\n",
    "    name = input(f\"Enter the name of item {i + 1}: \")\n",
    "    weight = float(input(f\"Enter the weight of {name}: \"))\n",
    "    value = float(input(f\"Enter the value of {name}: \"))\n",
    "    items.append((name, weight, value))\n",
    "\n",
    "capacity = float(input(\"Enter the maximum capacity of the knapsack: \"))\n",
    "\n",
    "# Running the function and displaying the maximum achievable value\n",
    "max_value = fractional_knapsack(items, capacity)\n",
    "print(f\"\\nMaximum value achievable: {max_value}\")\n"
   ]
  },
  {
   "cell_type": "code",
   "execution_count": null,
   "id": "8b7af87c-0f67-49c2-98e3-3b58e59b1eeb",
   "metadata": {},
   "outputs": [],
   "source": []
  }
 ],
 "metadata": {
  "kernelspec": {
   "display_name": "Python 3 (ipykernel)",
   "language": "python",
   "name": "python3"
  },
  "language_info": {
   "codemirror_mode": {
    "name": "ipython",
    "version": 3
   },
   "file_extension": ".py",
   "mimetype": "text/x-python",
   "name": "python",
   "nbconvert_exporter": "python",
   "pygments_lexer": "ipython3",
   "version": "3.12.7"
  }
 },
 "nbformat": 4,
 "nbformat_minor": 5
}
